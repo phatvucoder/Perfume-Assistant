{
 "cells": [
  {
   "cell_type": "code",
   "execution_count": 1,
   "metadata": {},
   "outputs": [
    {
     "data": {
      "application/vnd.jupyter.widget-view+json": {
       "model_id": "e32dbe48249d4428a0cb4b7571226eec",
       "version_major": 2,
       "version_minor": 0
      },
      "text/plain": [
       "Loading checkpoint shards:   0%|          | 0/2 [00:00<?, ?it/s]"
      ]
     },
     "metadata": {},
     "output_type": "display_data"
    },
    {
     "name": "stderr",
     "output_type": "stream",
     "text": [
      "Device set to use mps:0\n"
     ]
    }
   ],
   "source": [
    "from transformers import pipeline\n",
    "\n",
    "# generator = pipeline(\"text-generation\", model=\"Qwen/Qwen2.5-3B-Instruct-AWQ\")\n",
    "generator = pipeline(\"text-generation\", model=\"phatvucoder/Qwen2.5-1.5B-Perfumassist\")"
   ]
  },
  {
   "cell_type": "code",
   "execution_count": 2,
   "metadata": {},
   "outputs": [
    {
     "name": "stderr",
     "output_type": "stream",
     "text": [
      "/Users/phatvu/miniconda3/lib/python3.11/site-packages/transformers/pytorch_utils.py:329: UserWarning: To copy construct from a tensor, it is recommended to use sourceTensor.clone().detach() or sourceTensor.clone().detach().requires_grad_(True), rather than torch.tensor(sourceTensor).\n",
      "  test_elements = torch.tensor(test_elements)\n"
     ]
    },
    {
     "name": "stdout",
     "output_type": "stream",
     "text": [
      "ChatGPFake: Chào bạn thân mến! Tôi là trợ lý AI chuyên tư vấn và gợi ý nước hoa cá nhân hóa. Bạn có đang tìm kiếm mùi hương nào đặc biệt không?\n"
     ]
    }
   ],
   "source": [
    "# prompt = \"Who are you?\"\n",
    "prompt = input(\"       You: \").strip()\n",
    "\n",
    "messages = [\n",
    "    {\"role\": \"user\",\n",
    "     \"content\": f\"{prompt}\"},\n",
    "]\n",
    "\n",
    "response = generator(messages, max_new_tokens=2048)\n",
    "\n",
    "print(f'ChatGPFake: {response[0][\"generated_text\"][1][\"content\"]}')"
   ]
  },
  {
   "cell_type": "code",
   "execution_count": null,
   "metadata": {},
   "outputs": [],
   "source": []
  }
 ],
 "metadata": {
  "kernelspec": {
   "display_name": "base",
   "language": "python",
   "name": "python3"
  },
  "language_info": {
   "codemirror_mode": {
    "name": "ipython",
    "version": 3
   },
   "file_extension": ".py",
   "mimetype": "text/x-python",
   "name": "python",
   "nbconvert_exporter": "python",
   "pygments_lexer": "ipython3",
   "version": "3.11.8"
  }
 },
 "nbformat": 4,
 "nbformat_minor": 2
}
